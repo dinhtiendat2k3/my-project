{
  "nbformat": 4,
  "nbformat_minor": 0,
  "metadata": {
    "colab": {
      "provenance": [],
      "authorship_tag": "ABX9TyNGTIBNxD/IUJ+01lMtYA5o",
      "include_colab_link": true
    },
    "kernelspec": {
      "name": "python3",
      "display_name": "Python 3"
    },
    "language_info": {
      "name": "python"
    }
  },
  "cells": [
    {
      "cell_type": "markdown",
      "metadata": {
        "id": "view-in-github",
        "colab_type": "text"
      },
      "source": [
        "<a href=\"https://colab.research.google.com/github/dinhtiendat2k3/my-project/blob/main/FiFa%20Player%20Data%20Analysis%20Project.ipynb\" target=\"_parent\"><img src=\"https://colab.research.google.com/assets/colab-badge.svg\" alt=\"Open In Colab\"/></a>"
      ]
    },
    {
      "cell_type": "code",
      "execution_count": null,
      "metadata": {
        "id": "pVa0L1RA2WBf"
      },
      "outputs": [],
      "source": [
        "import pandas as pd"
      ]
    },
    {
      "cell_type": "code",
      "source": [
        "data = pd.read_csv('/content/fifa18_clean.csv')"
      ],
      "metadata": {
        "id": "6ielDE6w2nwk"
      },
      "execution_count": null,
      "outputs": []
    },
    {
      "cell_type": "code",
      "source": [
        "data.info()"
      ],
      "metadata": {
        "id": "DysHraGw2uPD",
        "outputId": "7ee1b5a1-f3db-4309-f824-94db590280bb",
        "colab": {
          "base_uri": "https://localhost:8080/"
        }
      },
      "execution_count": null,
      "outputs": [
        {
          "output_type": "stream",
          "name": "stdout",
          "text": [
            "<class 'pandas.core.frame.DataFrame'>\n",
            "RangeIndex: 17981 entries, 0 to 17980\n",
            "Data columns (total 74 columns):\n",
            " #   Column               Non-Null Count  Dtype  \n",
            "---  ------               --------------  -----  \n",
            " 0   Wage (€)             17981 non-null  int64  \n",
            " 1   Value (€)            17981 non-null  int64  \n",
            " 2   Name                 17981 non-null  object \n",
            " 3   Age                  17981 non-null  int64  \n",
            " 4   Photo                17981 non-null  object \n",
            " 5   Nationality          17981 non-null  object \n",
            " 6   Flag                 17981 non-null  object \n",
            " 7   Overall              17981 non-null  int64  \n",
            " 8   Potential            17981 non-null  int64  \n",
            " 9   Club                 17733 non-null  object \n",
            " 10  Club Logo            17981 non-null  object \n",
            " 11  Special              17981 non-null  int64  \n",
            " 12  Acceleration         17897 non-null  float64\n",
            " 13  Aggression           17913 non-null  float64\n",
            " 14  Agility              17910 non-null  float64\n",
            " 15  Balance              17924 non-null  float64\n",
            " 16  Ball control         17840 non-null  float64\n",
            " 17  Composure            17887 non-null  float64\n",
            " 18  Crossing             17885 non-null  float64\n",
            " 19  Curve                17908 non-null  float64\n",
            " 20  Dribbling            17850 non-null  float64\n",
            " 21  Finishing            17867 non-null  float64\n",
            " 22  Free kick accuracy   17932 non-null  float64\n",
            " 23  GK diving            17955 non-null  float64\n",
            " 24  GK handling          17954 non-null  float64\n",
            " 25  GK kicking           17962 non-null  float64\n",
            " 26  GK positioning       17955 non-null  float64\n",
            " 27  GK reflexes          17952 non-null  float64\n",
            " 28  Heading accuracy     17906 non-null  float64\n",
            " 29  Interceptions        17881 non-null  float64\n",
            " 30  Jumping              17911 non-null  float64\n",
            " 31  Long passing         17860 non-null  float64\n",
            " 32  Long shots           17898 non-null  float64\n",
            " 33  Marking              17869 non-null  float64\n",
            " 34  Penalties            17951 non-null  float64\n",
            " 35  Positioning          17886 non-null  float64\n",
            " 36  Reactions            17866 non-null  float64\n",
            " 37  Short passing        17832 non-null  float64\n",
            " 38  Shot power           17908 non-null  float64\n",
            " 39  Sliding tackle       17886 non-null  float64\n",
            " 40  Sprint speed         17867 non-null  float64\n",
            " 41  Stamina              17873 non-null  float64\n",
            " 42  Standing tackle      17857 non-null  float64\n",
            " 43  Strength             17877 non-null  float64\n",
            " 44  Vision               17874 non-null  float64\n",
            " 45  Volleys              17940 non-null  float64\n",
            " 46  CAM                  15952 non-null  float64\n",
            " 47  CB                   15952 non-null  float64\n",
            " 48  CDM                  15952 non-null  float64\n",
            " 49  CF                   15952 non-null  float64\n",
            " 50  CM                   15952 non-null  float64\n",
            " 51  ID                   17981 non-null  int64  \n",
            " 52  LAM                  15952 non-null  float64\n",
            " 53  LB                   15952 non-null  float64\n",
            " 54  LCB                  15952 non-null  float64\n",
            " 55  LCM                  15952 non-null  float64\n",
            " 56  LDM                  15952 non-null  float64\n",
            " 57  LF                   15952 non-null  float64\n",
            " 58  LM                   15952 non-null  float64\n",
            " 59  LS                   15952 non-null  float64\n",
            " 60  LW                   15952 non-null  float64\n",
            " 61  LWB                  15952 non-null  float64\n",
            " 62  Preferred Positions  17981 non-null  object \n",
            " 63  RAM                  15952 non-null  float64\n",
            " 64  RB                   15952 non-null  float64\n",
            " 65  RCB                  15952 non-null  float64\n",
            " 66  RCM                  15952 non-null  float64\n",
            " 67  RDM                  15952 non-null  float64\n",
            " 68  RF                   15952 non-null  float64\n",
            " 69  RM                   15952 non-null  float64\n",
            " 70  RS                   15952 non-null  float64\n",
            " 71  RW                   15952 non-null  float64\n",
            " 72  RWB                  15952 non-null  float64\n",
            " 73  ST                   15952 non-null  float64\n",
            "dtypes: float64(60), int64(7), object(7)\n",
            "memory usage: 10.2+ MB\n"
          ]
        }
      ]
    },
    {
      "cell_type": "code",
      "source": [],
      "metadata": {
        "id": "8ljjYVph2zXj"
      },
      "execution_count": null,
      "outputs": []
    }
  ]
}